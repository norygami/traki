{
 "cells": [
  {
   "cell_type": "code",
   "execution_count": null,
   "id": "28c39b1e",
   "metadata": {},
   "outputs": [],
   "source": [
    "import os\n",
    "from bs4 import BeautifulSoup\n",
    "from datetime import datetime\n",
    "\n",
    "# Load the HTML file\n",
    "with open('rpgmakernet_2.html', 'r', encoding='utf-8') as f:\n",
    "    soup = BeautifulSoup(f, 'html.parser')\n",
    "\n",
    "# Directory to save markdown files\n",
    "output_dir = '/mnt/data/docs/blog/posts/Archive/RPGMaker.net'\n",
    "os.makedirs(output_dir, exist_ok=True)\n",
    "\n",
    "# Process each blog post\n",
    "for post in soup.find_all('div', class_='blog_post'):\n",
    "    # Extract title\n",
    "    title_tag = post.find('h3').find('a')\n",
    "    title = title_tag.get_text(strip=True)\n",
    "    \n",
    "    # Extract date\n",
    "    date_str = post.find('li', class_='small').get_text(strip=True)\n",
    "    # Parse date like \"05/09/2021 12:35 AM\"\n",
    "    dt = datetime.strptime(date_str, '%m/%d/%Y %I:%M %p')\n",
    "    date_iso = dt.strftime('%Y-%m-%d')\n",
    "    yy_date = dt.strftime('%y-%m-%d')\n",
    "    \n",
    "    # Extract message content, converting <br/> to newlines\n",
    "    message_div = post.find('div', class_='message')\n",
    "    for br in message_div.find_all('br'):\n",
    "        br.replace_with('\\n')\n",
    "    content = message_div.get_text().strip()\n",
    "    \n",
    "    # Prepare markdown content\n",
    "    md = f\"\"\"---\n",
    "comments: true\n",
    "date: {date_iso}\n",
    "categories:\n",
    "  - AUTONOMY\n",
    "---\n",
    "\n",
    "# {title}\n",
    "{content}\n",
    "\"\"\"\n",
    "    # File name with two-digit year\n",
    "    filename = f\"RPGM_{yy_date}.md\"\n",
    "    filepath = os.path.join(output_dir, filename)\n",
    "    \n",
    "    # Write to file\n",
    "    with open(filepath, 'w', encoding='utf-8') as md_file:\n",
    "        md_file.write(md)\n",
    "\n",
    "    print(f'Generated {filepath}')"
   ]
  }
 ],
 "metadata": {
  "kernelspec": {
   "display_name": "rapids-24.12",
   "language": "python",
   "name": "python3"
  },
  "language_info": {
   "name": "python",
   "version": "3.11.11"
  }
 },
 "nbformat": 4,
 "nbformat_minor": 5
}
